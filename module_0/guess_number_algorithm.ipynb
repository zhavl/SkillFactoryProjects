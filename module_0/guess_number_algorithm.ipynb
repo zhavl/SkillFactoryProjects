{
 "cells": [
  {
   "cell_type": "code",
   "execution_count": 5,
   "metadata": {},
   "outputs": [
    {
     "name": "stdout",
     "output_type": "stream",
     "text": [
      "Ваш алгоритм угадывает число в среднем за 5 попыток\n"
     ]
    },
    {
     "data": {
      "text/plain": [
       "5"
      ]
     },
     "execution_count": 5,
     "metadata": {},
     "output_type": "execute_result"
    }
   ],
   "source": [
    "# импортируем библиотеку NumPy\n",
    "import numpy as np \n",
    "\n",
    "# Эта функция угадывает число от 1 до 99 включительно\n",
    "def game_core_v3(number):\n",
    "    '''Сначала устанавливаем границы угадываемого диапазона чисел (сами границы входят в диапазон)'''\n",
    "    count = 0\n",
    "    left=1\n",
    "    right=99\n",
    "    predict = None  #Наша догадка. Пока что мы не начинали угадывать, поэтому None.\n",
    "    \n",
    "    while number != predict:\n",
    "        predict = (left+right)//2 #Берём середину диапазона\n",
    "        count+=1\n",
    "        \n",
    "        '''Выкидываем участки, в которых угадываемого числа нет, перемещая левую и правую границы.'''\n",
    "        if number > predict:             \n",
    "            left = ((left+right)//2)+1           \n",
    "        elif number < predict: \n",
    "            right = ((left+right)//2)-1       \n",
    "            \n",
    "    return(count) # выход из цикла, если угадали\n",
    "\n",
    "\n",
    "# Эта функция считает среднее количество попыток угадывания за 1000 игр\n",
    "def score_game(game_core_v1):    \n",
    "    count_ls = [] # В этом списке храним число попыток для каждого запуска игры\n",
    "    np.random.seed(1)  # фиксируем RANDOM SEED, чтобы ваш эксперимент был воспроизводим!\n",
    "    random_array = np.random.randint(1,100, size=(1000)) # массив с 1000 случайных чисел от 1 до 99 включительно\n",
    "    \n",
    "    for number in random_array: #для каждого из тысячи случайных чисел\n",
    "        count_ls.append(game_core_v1(number)) # играем и результат каждой игры добавляем в список\n",
    "    score = int(np.mean(count_ls)) # высчитываем среднее арифметическое всех результатов\n",
    "    print(f\"Ваш алгоритм угадывает число в среднем за {score} попыток\")\n",
    "    \n",
    "    return(score)\n",
    "\n",
    "#Проверяем\n",
    "score_game(game_core_v3) "
   ]
  }
 ],
 "metadata": {
  "kernelspec": {
   "display_name": "Python 3",
   "language": "python",
   "name": "python3"
  },
  "language_info": {
   "codemirror_mode": {
    "name": "ipython",
    "version": 3
   },
   "file_extension": ".py",
   "mimetype": "text/x-python",
   "name": "python",
   "nbconvert_exporter": "python",
   "pygments_lexer": "ipython3",
   "version": "3.7.6"
  }
 },
 "nbformat": 4,
 "nbformat_minor": 4
}
